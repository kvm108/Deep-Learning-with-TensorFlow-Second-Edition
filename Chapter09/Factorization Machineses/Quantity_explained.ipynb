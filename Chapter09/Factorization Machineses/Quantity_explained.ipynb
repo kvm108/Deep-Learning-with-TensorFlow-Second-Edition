{
 "cells": [
  {
   "cell_type": "code",
   "execution_count": 1,
   "metadata": {
    "collapsed": true
   },
   "outputs": [],
   "source": [
    "# import required libraries\n",
    "\n",
    "import pandas as pd\n",
    "from collections import Counter\n",
    "import tensorflow as tf\n",
    "from tffm.tffm import TFFMRegressor\n",
    "from sklearn.metrics import mean_squared_error\n",
    "from sklearn.model_selection import train_test_split\n",
    "import numpy as np"
   ]
  },
  {
   "cell_type": "code",
   "execution_count": 2,
   "metadata": {
    "collapsed": true
   },
   "outputs": [],
   "source": [
    "# Loading datasets\n",
    "# Download and mention the respective paths\n",
    "\n",
    "buys = open('yoochoose-buys.dat', 'r')\n",
    "clicks = open('yoochoose-clicks.dat', 'r')"
   ]
  },
  {
   "cell_type": "code",
   "execution_count": 3,
   "metadata": {
    "scrolled": true
   },
   "outputs": [
    {
     "name": "stdout",
     "output_type": "stream",
     "text": [
      "   Session ID                 Timestamp      Item ID Category  Quantity\n",
      "0    420374.0  2014-04-06T18:44:58.314Z  214537888.0    12462         1\n",
      "1    420374.0  2014-04-06T18:44:58.325Z  214537856.0    10471         1\n",
      "2    281626.0  2014-04-06T09:40:13.032Z  214535648.0     1883         1\n",
      "3    420368.0  2014-04-04T06:13:28.848Z  214530576.0     6073         1\n",
      "4    420368.0  2014-04-04T06:13:28.858Z  214835024.0     2617         1\n",
      "(1150753, 5)\n",
      "   Session ID                 Timestamp    Item ID Category\n",
      "0           1  2014-04-07T10:51:09.277Z  214536502        0\n",
      "1           1  2014-04-07T10:54:09.868Z  214536500        0\n",
      "2           1  2014-04-07T10:54:46.998Z  214536506        0\n",
      "3           1  2014-04-07T10:57:00.306Z  214577561        0\n",
      "4           2  2014-04-07T13:56:37.614Z  214662742        0\n",
      "(33003944, 4)\n"
     ]
    }
   ],
   "source": [
    "# Reading datasets\n",
    "\n",
    "initial_buys_df = pd.read_csv(buys, names=['Session ID', 'Timestamp', 'Item ID', 'Category', 'Quantity'],\n",
    "                              dtype={'Session ID': 'float32', 'Timestamp': 'str', 'Item ID': 'float32',\n",
    "                                     'Category': 'str'}) # read file into dataframe by column names\n",
    "\n",
    "print(initial_buys_df.head())  # first five records\n",
    "print(initial_buys_df.shape)   # shape of the dataframe\n",
    "\n",
    "# Reading datasets\n",
    "\n",
    "initial_clicks_df = pd.read_csv(clicks, names=['Session ID', 'Timestamp', 'Item ID', 'Category'],\n",
    "                                dtype={'Category': 'str'})\n",
    "\n",
    "print(initial_clicks_df.head())\n",
    "print(initial_clicks_df.shape)"
   ]
  },
  {
   "cell_type": "code",
   "execution_count": 4,
   "metadata": {},
   "outputs": [
    {
     "name": "stdout",
     "output_type": "stream",
     "text": [
      "                           Timestamp      Item ID Category  Quantity\n",
      "Session ID                                                          \n",
      "420374.0    2014-04-06T18:44:58.314Z  214537888.0    12462         1\n",
      "420374.0    2014-04-06T18:44:58.325Z  214537856.0    10471         1\n",
      "281626.0    2014-04-06T09:40:13.032Z  214535648.0     1883         1\n",
      "420368.0    2014-04-04T06:13:28.848Z  214530576.0     6073         1\n",
      "420368.0    2014-04-04T06:13:28.858Z  214835024.0     2617         1\n",
      "(1150753, 4)\n",
      "                           Timestamp    Item ID Category\n",
      "Session ID                                              \n",
      "1           2014-04-07T10:51:09.277Z  214536502        0\n",
      "1           2014-04-07T10:54:09.868Z  214536500        0\n",
      "1           2014-04-07T10:54:46.998Z  214536506        0\n",
      "1           2014-04-07T10:57:00.306Z  214577561        0\n",
      "2           2014-04-07T13:56:37.614Z  214662742        0\n",
      "(33003944, 3)\n"
     ]
    }
   ],
   "source": [
    "# Make 'Session ID' column as index\n",
    "\n",
    "initial_buys_df.set_index('Session ID', inplace=True)\n",
    "print(initial_buys_df.head())\n",
    "print(initial_buys_df.shape)\n",
    "\n",
    "initial_clicks_df.set_index('Session ID', inplace=True)\n",
    "print(initial_clicks_df.head())\n",
    "print(initial_clicks_df.shape)"
   ]
  },
  {
   "cell_type": "code",
   "execution_count": 5,
   "metadata": {},
   "outputs": [
    {
     "name": "stdout",
     "output_type": "stream",
     "text": [
      "                Item ID Category  Quantity\n",
      "Session ID                                \n",
      "420374.0    214537888.0    12462         1\n",
      "420374.0    214537856.0    10471         1\n",
      "281626.0    214535648.0     1883         1\n",
      "420368.0    214530576.0     6073         1\n",
      "420368.0    214835024.0     2617         1\n",
      "(1150753, 3)\n",
      "              Item ID Category\n",
      "Session ID                    \n",
      "1           214536502        0\n",
      "1           214536500        0\n",
      "1           214536506        0\n",
      "1           214577561        0\n",
      "2           214662742        0\n",
      "(33003944, 2)\n"
     ]
    }
   ],
   "source": [
    "# We won't use timestamps in this example, remove 'Timestamp' column from dataframe(df)\n",
    "\n",
    "initial_buys_df = initial_buys_df.drop('Timestamp', 1)\n",
    "print(initial_buys_df.head(n=5))\n",
    "print(initial_buys_df.shape)\n",
    "\n",
    "initial_clicks_df = initial_clicks_df.drop('Timestamp', 1)\n",
    "print(initial_clicks_df.head(n=5))\n",
    "print(initial_clicks_df.shape)"
   ]
  },
  {
   "cell_type": "code",
   "execution_count": 6,
   "metadata": {},
   "outputs": [
    {
     "name": "stdout",
     "output_type": "stream",
     "text": [
      "                Item ID Category  Quantity\n",
      "Session ID                                \n",
      "420471.0    214717888.0     2092         1\n",
      "420471.0    214821024.0     1570         1\n",
      "420471.0    214829280.0      837         1\n",
      "420471.0    214819552.0      418         1\n",
      "420471.0    214746384.0      784         1\n",
      "(106956, 3)\n",
      "              Item ID Category\n",
      "Session ID                    \n",
      "932         214826906        0\n",
      "932         214826906        0\n",
      "932         214826906        0\n",
      "932         214826955        0\n",
      "932         214826955        0\n",
      "(209024, 2)\n"
     ]
    }
   ],
   "source": [
    "# For illustrative purposes, we will only use a subset of the data: top 10000 buying users,\n",
    "\n",
    "x = Counter(initial_buys_df.index).most_common(10000) # count top 10000 most common session ID's\n",
    "top_k = dict(x).keys()                                # find respective keys\n",
    "\n",
    "initial_buys_df = initial_buys_df[initial_buys_df.index.isin(top_k)]  # Assign the most common to df\n",
    "print(initial_buys_df.head())\n",
    "print(initial_buys_df.shape)\n",
    "\n",
    "initial_clicks_df = initial_clicks_df[initial_clicks_df.index.isin(top_k)]\n",
    "print(initial_clicks_df.head())\n",
    "print(initial_clicks_df.shape)"
   ]
  },
  {
   "cell_type": "code",
   "execution_count": 7,
   "metadata": {},
   "outputs": [
    {
     "name": "stdout",
     "output_type": "stream",
     "text": [
      "                Item ID Category  Quantity  _Session ID\n",
      "Session ID                                             \n",
      "420471.0    214717888.0     2092         1     420471.0\n",
      "420471.0    214821024.0     1570         1     420471.0\n",
      "420471.0    214829280.0      837         1     420471.0\n",
      "420471.0    214819552.0      418         1     420471.0\n",
      "420471.0    214746384.0      784         1     420471.0\n",
      "(106956, 4)\n"
     ]
    }
   ],
   "source": [
    "# Create a copy of the index, since we will also apply one-hot encoding on the index\n",
    "\n",
    "initial_buys_df['_Session ID'] = initial_buys_df.index\n",
    "print(initial_buys_df.head())\n",
    "print(initial_buys_df.shape)"
   ]
  },
  {
   "cell_type": "code",
   "execution_count": 8,
   "metadata": {},
   "outputs": [
    {
     "name": "stdout",
     "output_type": "stream",
     "text": [
      "(106956, 356)\n"
     ]
    }
   ],
   "source": [
    "# One-hot encode all columns for buys \n",
    "\n",
    "transformed_buys = pd.get_dummies(initial_buys_df)\n",
    "print(transformed_buys.shape)\n",
    "# print(transformed_buys.head())"
   ]
  },
  {
   "cell_type": "code",
   "execution_count": 9,
   "metadata": {
    "scrolled": true
   },
   "outputs": [
    {
     "name": "stdout",
     "output_type": "stream",
     "text": [
      "(209024, 56)\n"
     ]
    }
   ],
   "source": [
    "# One-hot encode all columns for clicks \n",
    "\n",
    "transformed_clicks = pd.get_dummies(initial_clicks_df)\n",
    "print(transformed_clicks.shape)\n",
    "#print(transformed_clicks.head())"
   ]
  },
  {
   "cell_type": "code",
   "execution_count": 10,
   "metadata": {},
   "outputs": [
    {
     "name": "stdout",
     "output_type": "stream",
     "text": [
      "(106956, 354)\n"
     ]
    }
   ],
   "source": [
    "# Aggregate historical data for Items and Categories for buys\n",
    "\n",
    "filtered_buys = transformed_buys.filter(regex=\"Item.*|Category.*\")\n",
    "print(filtered_buys.shape)\n",
    "#print(filtered_buys.head())"
   ]
  },
  {
   "cell_type": "code",
   "execution_count": 11,
   "metadata": {},
   "outputs": [
    {
     "name": "stdout",
     "output_type": "stream",
     "text": [
      "(209024, 56)\n"
     ]
    }
   ],
   "source": [
    "# Aggregate historical data for Items and Categories for clicks\n",
    "\n",
    "filtered_clicks = transformed_clicks.filter(regex=\"Item.*|Category.*\")\n",
    "print(filtered_clicks.shape)\n",
    "#print(filtered_clicks.head())"
   ]
  },
  {
   "cell_type": "code",
   "execution_count": 12,
   "metadata": {},
   "outputs": [
    {
     "name": "stdout",
     "output_type": "stream",
     "text": [
      "(10000, 354)\n"
     ]
    }
   ],
   "source": [
    "historical_buy_data = filtered_buys.groupby(filtered_buys.index).sum()\n",
    "print(historical_buy_data.shape)\n",
    "#print(historical_buy_data.head())"
   ]
  },
  {
   "cell_type": "code",
   "execution_count": 13,
   "metadata": {},
   "outputs": [
    {
     "name": "stdout",
     "output_type": "stream",
     "text": [
      "(10000, 354)\n"
     ]
    }
   ],
   "source": [
    "historical_buy_data = historical_buy_data.rename(columns=lambda column_name: 'buy history:' + column_name)\n",
    "print(historical_buy_data.shape)\n",
    "#print(historical_buy_data.head())"
   ]
  },
  {
   "cell_type": "code",
   "execution_count": 14,
   "metadata": {},
   "outputs": [
    {
     "name": "stdout",
     "output_type": "stream",
     "text": [
      "(10000, 56)\n"
     ]
    }
   ],
   "source": [
    "historical_click_data = filtered_clicks.groupby(filtered_clicks.index).sum()\n",
    "print(historical_click_data.shape)\n",
    "#print(historical_click_data.head())"
   ]
  },
  {
   "cell_type": "code",
   "execution_count": 15,
   "metadata": {},
   "outputs": [
    {
     "name": "stdout",
     "output_type": "stream",
     "text": [
      "(10000, 56)\n"
     ]
    }
   ],
   "source": [
    "historical_click_data = historical_click_data.rename(columns=lambda column_name: 'click history:' + column_name)\n",
    "print(historical_click_data.shape)\n",
    "#print(historical_click_data.head())"
   ]
  },
  {
   "cell_type": "code",
   "execution_count": 16,
   "metadata": {
    "scrolled": false
   },
   "outputs": [
    {
     "name": "stdout",
     "output_type": "stream",
     "text": [
      "(106956, 710)\n",
      "(106956, 766)\n"
     ]
    }
   ],
   "source": [
    "# Merge historical data of every user_id\n",
    "\n",
    "merged1 = pd.merge(transformed_buys, historical_buy_data, left_index=True, right_index=True)\n",
    "print(merged1.shape)\n",
    "#print(merged1.head())\n",
    "\n",
    "merged2 = pd.merge(merged1, historical_click_data, left_index=True, right_index=True)\n",
    "print(merged2.shape)\n",
    "#print(merged2.head())"
   ]
  },
  {
   "cell_type": "code",
   "execution_count": 17,
   "metadata": {},
   "outputs": [
    {
     "name": "stdout",
     "output_type": "stream",
     "text": [
      "(106956,)\n",
      "[2 2 1 2 1 1 2 2 2 1]\n"
     ]
    }
   ],
   "source": [
    "y = np.array(merged2['Quantity'].as_matrix())\n",
    "print(y.shape)\n",
    "print(y[0:10])"
   ]
  },
  {
   "cell_type": "code",
   "execution_count": 18,
   "metadata": {},
   "outputs": [
    {
     "name": "stdout",
     "output_type": "stream",
     "text": [
      "106956 762\n",
      "106956 762\n"
     ]
    }
   ],
   "source": [
    "merged2.drop(['Item ID', '_Session ID', 'click history:Item ID', 'buy history:Item ID', 'Quantity'], 1, inplace=True)\n",
    "#print(merged2.columns)\n",
    "X = np.array(merged2)\n",
    "print(len(X),len(X[0]))\n",
    "X = np.nan_to_num(X)\n",
    "print(len(X),len(X[0]))"
   ]
  },
  {
   "cell_type": "code",
   "execution_count": 19,
   "metadata": {},
   "outputs": [
    {
     "name": "stdout",
     "output_type": "stream",
     "text": [
      "106956 [ 2  0  0  0  0  0  0  0  0  0  0  0  0  0  0  0  0  0  0  0  0  0  0  0  0\n",
      "  0  0  0  0  0  0  0  0  0  0  0  0  0  0  0  0  0  0  0  0  0  0  1  0  0\n",
      "  0  0  0  0  0  0  0  0  0  0  0  0  0  0  0  0  0  0  0  0  0  0  0  0  0\n",
      "  0  0  0  0  0  0  0  0  0  0  0  0  0  0  0  0  0  0  0  0  0  0  0  0  0\n",
      "  0  0  0  0  0  0  0  0  0  0  0  0  0  0  0  0  0  0  0  0  0  0  0  0  0\n",
      "  0  0  0  0  0  0  0  0  0  0  0  0  0  0  0  0  0  0  0  0  0  0  0  0  0\n",
      "  0  0  0  0  0  0  0  0  0  0  0  0  0  0  0  0  0  0  0  0  0  0  0  0  0\n",
      "  0  0  0  0  0  0  0  0  0  0  0  0  0  0  0  0  0  0  0  0  0  0  0  0  0\n",
      "  0  0  0  0  0  0  0  0  0  0  0  0  0  0  0  0  0  0  0  0  0  0  0  0  0\n",
      "  0  0  0  0  0  0  0  0  0  0  0  0  0  0  0  0  0  0  0  0  0  0  0  0  0\n",
      "  0  0  0  0  0  0  0  0  0  0  0  0  0  0  0  0  0  0  0  0  0  0  0  0  0\n",
      "  0  0  0  0  0  0  0  0  0  0  0  0  0  0  0  0  0  0  0  0  0  0  0  0  0\n",
      "  0  0  0  0  0  0  0  0  0  0  0  0  0  0  0  0  0  0  0  0  0  0  0  0  0\n",
      "  0  0  0  0  0  0  0  0  0  0  0  0  0  0  0  0  0  0  0  0  0  0  0  0  0\n",
      "  0  0  0  0  0  0  0  0  0  0  0  0  0  0  0  0  0  0  0  0  0  0  0  0  0\n",
      "  0  0  0  0  0  0  0  0  0  0  0  0  0  0  0  0  0  0  0  0  0  0  0  0  0\n",
      "  2  0  0  0  0  0  0  0  0  0  0  0  0  0  0  0  0  0  0  0  0  0  0  0  0\n",
      "  0  0  0  0  0  0  0  0  0  0  0  0  0  0  0  0  0  0  0  0  0  0  0  2  0\n",
      "  0  0  0  0  0  0  0  0  0  0  0  0  0  0  0  0  0  0  0  0  0  0  0  0  0\n",
      "  0  0  0  0  0  0  0  0  0  0  0  0  0  0  0  0  0  0  0  0  0  0  0  0  0\n",
      "  0  0  0  0  0  0  0  0  0  0  0  0  0  0  0  0  0  0  0  0  0  0  0  0  0\n",
      "  0  0  0  0  0  0  0  0  0  0  0  0  0  0  0  0  0  0  0  0  0  0  0  0  0\n",
      "  0  0  0  0  0  0  0  0  0  0  0  0  0  0  0  0  0  0  0  0  0  0  0  0  0\n",
      "  0  0  0  0  0  0  0  0  0  0  0  0  0  0  0  0  0  0  0  0  0  0  0  0  0\n",
      "  0  0  0  0  2  0  0  0  0  0  0  0  0  0  0  0  0  0  0  0  0  0  0  0  0\n",
      "  0  0  0  0  0  0  0  0  0  0  2  0  0  0  0  0  0  0  0  0  0  0  0  0  0\n",
      "  2  0  0  0  0  0  0  0  0  0  0  0  0  0  0  0  0  0  0  0  0  0  0  0  0\n",
      "  0  0  0  0  0  0  0  0  0  0  0  0  0  0  0  0  0  0  0  0  0  0  0  0  0\n",
      "  0  0  0  0  0  0  0 13  0  0  0  0  0  0  0  0  0  0  0  0  0  0  0  0  0\n",
      "  0  0  0  0  0  0  0  0  0  0  0  0  0  0  0  0  0  0  0  0  0  0  0  0  0\n",
      "  0  0  0  0  0  0  0  0  0  0  0  0]\n"
     ]
    }
   ],
   "source": [
    "print(len(X),X[0]) # number of records and values in one record"
   ]
  },
  {
   "cell_type": "code",
   "execution_count": 20,
   "metadata": {
    "collapsed": true
   },
   "outputs": [],
   "source": [
    "# Create the MF model, you can play around with the hyper-parameters \n",
    "\n",
    "model = TFFMRegressor(\n",
    "    order=2,\n",
    "    rank=7,\n",
    "    optimizer=tf.train.AdamOptimizer(learning_rate=0.1),\n",
    "    n_epochs=100,\n",
    "    batch_size=-1,\n",
    "    init_std=0.001,\n",
    "    input_type='dense',\n",
    "    log_dir = '/home/kishore/upwork/logs/',\n",
    "    verbose=1\n",
    ")"
   ]
  },
  {
   "cell_type": "code",
   "execution_count": 21,
   "metadata": {},
   "outputs": [
    {
     "name": "stdout",
     "output_type": "stream",
     "text": [
      "(85564, 762) (21392, 762) (85564,) (21392,)\n"
     ]
    }
   ],
   "source": [
    "# Split data into train, test\n",
    "\n",
    "X_tr, X_te, y_tr, y_te = train_test_split(X, y, test_size=0.2)\n",
    "\n",
    "print(X_tr.shape, X_te.shape, y_tr.shape, y_te.shape)"
   ]
  },
  {
   "cell_type": "code",
   "execution_count": 22,
   "metadata": {},
   "outputs": [
    {
     "name": "stdout",
     "output_type": "stream",
     "text": [
      "(10696, 762) (10696, 762) (10696,) (10696,)\n"
     ]
    }
   ],
   "source": [
    "#Split testing data in half: Full information vs Cold-start\n",
    "\n",
    "X_te, X_te_cs, y_te, y_te_cs = train_test_split(X_te, y_te, test_size=0.5)\n",
    "print(X_te.shape, X_te_cs.shape, y_te.shape, y_te_cs.shape)"
   ]
  },
  {
   "cell_type": "code",
   "execution_count": 23,
   "metadata": {},
   "outputs": [
    {
     "name": "stdout",
     "output_type": "stream",
     "text": [
      "(10696, 762)\n"
     ]
    }
   ],
   "source": [
    "# Cold Start\n",
    "\n",
    "cold_start = pd.DataFrame(X_te_cs, columns=merged2.columns)\n",
    "print(cold_start.shape)\n",
    "#print(cold_start.head())"
   ]
  },
  {
   "cell_type": "code",
   "execution_count": 24,
   "metadata": {},
   "outputs": [
    {
     "name": "stdout",
     "output_type": "stream",
     "text": [
      "(10696, 762)\n"
     ]
    }
   ],
   "source": [
    "# What happens if we only have access to categories and no historical click/purchase data?\n",
    "# Let's delete historical click and purchasing data for the cold_start test set\n",
    "\n",
    "for column in cold_start.columns:\n",
    "    if ('buy' in column or 'click' in column) and ('Category' not in column):\n",
    "        cold_start[column] = 0\n",
    "        \n",
    "print(cold_start.shape)\n",
    "#print(cold_start.head(n=10))"
   ]
  },
  {
   "cell_type": "code",
   "execution_count": 25,
   "metadata": {},
   "outputs": [
    {
     "name": "stderr",
     "output_type": "stream",
     "text": [
      "\r",
      "  0%|          | 0/100 [00:00<?, ?epoch/s]"
     ]
    },
    {
     "name": "stdout",
     "output_type": "stream",
     "text": [
      "Initialize logs, use: \n",
      "tensorboard --logdir=/home/kishore/upwork/logs\n"
     ]
    },
    {
     "name": "stderr",
     "output_type": "stream",
     "text": [
      "100%|██████████| 100/100 [04:37<00:00,  2.72s/epoch]\n"
     ]
    }
   ],
   "source": [
    "# fit the model\n",
    "\n",
    "model.fit(X_tr, y_tr, show_progress=True)"
   ]
  },
  {
   "cell_type": "code",
   "execution_count": 26,
   "metadata": {},
   "outputs": [
    {
     "name": "stdout",
     "output_type": "stream",
     "text": [
      "MSE: 0.3576960753907961\n",
      "predictions: [-0.82515335 -0.36797437  0.04699847  0.34387678  2.74649882  2.10551763\n",
      "  0.07465315  0.86455691  0.81601524  0.9363333 ]\n",
      "actual value: [0 0 0 0 2 2 1 1 1 1]\n"
     ]
    }
   ],
   "source": [
    "# Compute the mean squared error for both test sets\n",
    "\n",
    "predictions = model.predict(X_te)\n",
    "print('MSE: {}'.format(mean_squared_error(y_te, predictions)))\n",
    "print(\"predictions:\",predictions[:10])\n",
    "print(\"actual value:\",y_te[:10])"
   ]
  },
  {
   "cell_type": "code",
   "execution_count": 27,
   "metadata": {},
   "outputs": [
    {
     "name": "stdout",
     "output_type": "stream",
     "text": [
      "Cold-start MSE: 0.37049781857308084\n",
      "cold start predictions: [ 0.10383224  0.05325939  1.07749355 -0.77810884  1.35151124  0.79925859\n",
      " -0.23732901  0.3737044   1.4157995   3.11727738]\n",
      "actual value: [0 0 1 0 2 1 0 1 0 1]\n"
     ]
    }
   ],
   "source": [
    "# Compute the mean squared error for both test sets\n",
    "\n",
    "cold_start_predictions = model.predict(X_te_cs)\n",
    "print('Cold-start MSE: {}'.format(mean_squared_error(y_te_cs, cold_start_predictions)))\n",
    "print(\"cold start predictions:\",cold_start_predictions[:10])\n",
    "print(\"actual value:\",y_te_cs[:10])"
   ]
  },
  {
   "cell_type": "code",
   "execution_count": 28,
   "metadata": {
    "collapsed": true
   },
   "outputs": [],
   "source": [
    "model.destroy()"
   ]
  }
 ],
 "metadata": {
  "kernelspec": {
   "display_name": "Python 3",
   "language": "python",
   "name": "python3"
  },
  "language_info": {
   "codemirror_mode": {
    "name": "ipython",
    "version": 3
   },
   "file_extension": ".py",
   "mimetype": "text/x-python",
   "name": "python",
   "nbconvert_exporter": "python",
   "pygments_lexer": "ipython3",
   "version": "3.6.1"
  }
 },
 "nbformat": 4,
 "nbformat_minor": 2
}
