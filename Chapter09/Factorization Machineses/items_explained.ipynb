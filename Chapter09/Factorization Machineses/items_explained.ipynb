{
 "cells": [
  {
   "cell_type": "code",
   "execution_count": 2,
   "metadata": {
    "collapsed": true
   },
   "outputs": [],
   "source": [
    "# import required libraries\n",
    "\n",
    "import pandas as pd\n",
    "from collections import Counter\n",
    "import tensorflow as tf\n",
    "from tffm.tffm import TFFMRegressor\n",
    "from tffm.tffm import TFFMClassifier\n",
    "from sklearn.metrics import mean_squared_error\n",
    "from sklearn.model_selection import train_test_split\n",
    "import numpy as np"
   ]
  },
  {
   "cell_type": "code",
   "execution_count": 3,
   "metadata": {
    "collapsed": true
   },
   "outputs": [],
   "source": [
    "# Loading datasets\n",
    "# Download and mention the respective paths\n",
    "\n",
    "buys = open('yoochoose-buys.dat', 'r')\n",
    "clicks = open('yoochoose-clicks.dat', 'r')"
   ]
  },
  {
   "cell_type": "code",
   "execution_count": 4,
   "metadata": {
    "scrolled": true
   },
   "outputs": [
    {
     "name": "stdout",
     "output_type": "stream",
     "text": [
      "   Session ID                 Timestamp      Item ID Category  Quantity\n",
      "0    420374.0  2014-04-06T18:44:58.314Z  214537888.0    12462         1\n",
      "1    420374.0  2014-04-06T18:44:58.325Z  214537856.0    10471         1\n",
      "2    281626.0  2014-04-06T09:40:13.032Z  214535648.0     1883         1\n",
      "3    420368.0  2014-04-04T06:13:28.848Z  214530576.0     6073         1\n",
      "4    420368.0  2014-04-04T06:13:28.858Z  214835024.0     2617         1\n",
      "(1150753, 5)\n",
      "   Session ID                 Timestamp    Item ID Category\n",
      "0           1  2014-04-07T10:51:09.277Z  214536502        0\n",
      "1           1  2014-04-07T10:54:09.868Z  214536500        0\n",
      "2           1  2014-04-07T10:54:46.998Z  214536506        0\n",
      "3           1  2014-04-07T10:57:00.306Z  214577561        0\n",
      "4           2  2014-04-07T13:56:37.614Z  214662742        0\n",
      "(33003944, 4)\n"
     ]
    }
   ],
   "source": [
    "# Reading datasets\n",
    "\n",
    "initial_buys_df = pd.read_csv(buys, names=['Session ID', 'Timestamp', 'Item ID', 'Category', 'Quantity'],\n",
    "                              dtype={'Session ID': 'float32', 'Timestamp': 'str', 'Item ID': 'float32',\n",
    "                                     'Category': 'str'}) # read file into dataframe by column names\n",
    "\n",
    "print(initial_buys_df.head())  # first five records\n",
    "print(initial_buys_df.shape)   # shape of the dataframe\n",
    "\n",
    "# Reading datasets\n",
    "\n",
    "initial_clicks_df = pd.read_csv(clicks, names=['Session ID', 'Timestamp', 'Item ID', 'Category'],\n",
    "                                dtype={'Category': 'str'})\n",
    "\n",
    "print(initial_clicks_df.head())\n",
    "print(initial_clicks_df.shape)"
   ]
  },
  {
   "cell_type": "code",
   "execution_count": 5,
   "metadata": {},
   "outputs": [
    {
     "name": "stdout",
     "output_type": "stream",
     "text": [
      "                           Timestamp      Item ID Category  Quantity\n",
      "Session ID                                                          \n",
      "420374.0    2014-04-06T18:44:58.314Z  214537888.0    12462         1\n",
      "420374.0    2014-04-06T18:44:58.325Z  214537856.0    10471         1\n",
      "281626.0    2014-04-06T09:40:13.032Z  214535648.0     1883         1\n",
      "420368.0    2014-04-04T06:13:28.848Z  214530576.0     6073         1\n",
      "420368.0    2014-04-04T06:13:28.858Z  214835024.0     2617         1\n",
      "(1150753, 4)\n",
      "                           Timestamp    Item ID Category\n",
      "Session ID                                              \n",
      "1           2014-04-07T10:51:09.277Z  214536502        0\n",
      "1           2014-04-07T10:54:09.868Z  214536500        0\n",
      "1           2014-04-07T10:54:46.998Z  214536506        0\n",
      "1           2014-04-07T10:57:00.306Z  214577561        0\n",
      "2           2014-04-07T13:56:37.614Z  214662742        0\n",
      "(33003944, 3)\n"
     ]
    }
   ],
   "source": [
    "# Make 'Session ID' column as index\n",
    "\n",
    "initial_buys_df.set_index('Session ID', inplace=True)\n",
    "print(initial_buys_df.head())\n",
    "print(initial_buys_df.shape)\n",
    "\n",
    "initial_clicks_df.set_index('Session ID', inplace=True)\n",
    "print(initial_clicks_df.head())\n",
    "print(initial_clicks_df.shape)"
   ]
  },
  {
   "cell_type": "code",
   "execution_count": 6,
   "metadata": {},
   "outputs": [
    {
     "name": "stdout",
     "output_type": "stream",
     "text": [
      "                Item ID Category  Quantity\n",
      "Session ID                                \n",
      "420374.0    214537888.0    12462         1\n",
      "420374.0    214537856.0    10471         1\n",
      "281626.0    214535648.0     1883         1\n",
      "420368.0    214530576.0     6073         1\n",
      "420368.0    214835024.0     2617         1\n",
      "(1150753, 3)\n",
      "              Item ID Category\n",
      "Session ID                    \n",
      "1           214536502        0\n",
      "1           214536500        0\n",
      "1           214536506        0\n",
      "1           214577561        0\n",
      "2           214662742        0\n",
      "(33003944, 2)\n"
     ]
    }
   ],
   "source": [
    "# We won't use timestamps in this example, remove 'Timestamp' column from dataframe(df)\n",
    "\n",
    "initial_buys_df = initial_buys_df.drop('Timestamp', 1)\n",
    "print(initial_buys_df.head(n=5))\n",
    "print(initial_buys_df.shape)\n",
    "\n",
    "initial_clicks_df = initial_clicks_df.drop('Timestamp', 1)\n",
    "print(initial_clicks_df.head(n=5))\n",
    "print(initial_clicks_df.shape)"
   ]
  },
  {
   "cell_type": "code",
   "execution_count": 7,
   "metadata": {},
   "outputs": [
    {
     "name": "stdout",
     "output_type": "stream",
     "text": [
      "                Item ID Category  Quantity\n",
      "Session ID                                \n",
      "420471.0    214717888.0     2092         1\n",
      "420471.0    214821024.0     1570         1\n",
      "420471.0    214829280.0      837         1\n",
      "420471.0    214819552.0      418         1\n",
      "420471.0    214746384.0      784         1\n",
      "(106956, 3)\n",
      "              Item ID Category\n",
      "Session ID                    \n",
      "932         214826906        0\n",
      "932         214826906        0\n",
      "932         214826906        0\n",
      "932         214826955        0\n",
      "932         214826955        0\n",
      "(209024, 2)\n"
     ]
    }
   ],
   "source": [
    "# For illustrative purposes, we will only use a subset of the data: top 10000 buying users,\n",
    "\n",
    "x = Counter(initial_buys_df.index).most_common(10000) # count top 10000 most common session ID's\n",
    "top_k = dict(x).keys()                                # find respective keys\n",
    "\n",
    "initial_buys_df = initial_buys_df[initial_buys_df.index.isin(top_k)]  # Assign the most common to df\n",
    "print(initial_buys_df.head())\n",
    "print(initial_buys_df.shape)\n",
    "\n",
    "initial_clicks_df = initial_clicks_df[initial_clicks_df.index.isin(top_k)]\n",
    "print(initial_clicks_df.head())\n",
    "print(initial_clicks_df.shape)"
   ]
  },
  {
   "cell_type": "code",
   "execution_count": 8,
   "metadata": {},
   "outputs": [
    {
     "name": "stdout",
     "output_type": "stream",
     "text": [
      "                Item ID Category  Quantity  _Session ID\n",
      "Session ID                                             \n",
      "420471.0    214717888.0     2092         1     420471.0\n",
      "420471.0    214821024.0     1570         1     420471.0\n",
      "420471.0    214829280.0      837         1     420471.0\n",
      "420471.0    214819552.0      418         1     420471.0\n",
      "420471.0    214746384.0      784         1     420471.0\n",
      "(106956, 4)\n"
     ]
    }
   ],
   "source": [
    "# Create a copy of the index, since we will also apply one-hot encoding on the index\n",
    "\n",
    "initial_buys_df['_Session ID'] = initial_buys_df.index\n",
    "print(initial_buys_df.head())\n",
    "print(initial_buys_df.shape)"
   ]
  },
  {
   "cell_type": "code",
   "execution_count": 9,
   "metadata": {},
   "outputs": [
    {
     "name": "stdout",
     "output_type": "stream",
     "text": [
      "(106956, 356)\n"
     ]
    }
   ],
   "source": [
    "# One-hot encode all columns for buys \n",
    "\n",
    "transformed_buys = pd.get_dummies(initial_buys_df)\n",
    "print(transformed_buys.shape)\n",
    "#print(transformed_buys.head())"
   ]
  },
  {
   "cell_type": "code",
   "execution_count": 10,
   "metadata": {
    "scrolled": true
   },
   "outputs": [
    {
     "name": "stdout",
     "output_type": "stream",
     "text": [
      "(209024, 56)\n"
     ]
    }
   ],
   "source": [
    "# One-hot encode all columns for clicks \n",
    "\n",
    "transformed_clicks = pd.get_dummies(initial_clicks_df)\n",
    "print(transformed_clicks.shape)\n",
    "#print(transformed_clicks.head())"
   ]
  },
  {
   "cell_type": "code",
   "execution_count": 11,
   "metadata": {},
   "outputs": [
    {
     "name": "stdout",
     "output_type": "stream",
     "text": [
      "(106956, 354)\n"
     ]
    }
   ],
   "source": [
    "# Aggregate historical data for Items and Categories for buys\n",
    "\n",
    "filtered_buys = transformed_buys.filter(regex=\"Item.*|Category.*\")\n",
    "print(filtered_buys.shape)\n",
    "#print(filtered_buys.head())"
   ]
  },
  {
   "cell_type": "code",
   "execution_count": 12,
   "metadata": {},
   "outputs": [
    {
     "name": "stdout",
     "output_type": "stream",
     "text": [
      "(209024, 56)\n"
     ]
    }
   ],
   "source": [
    "# Aggregate historical data for Items and Categories for clicks\n",
    "\n",
    "filtered_clicks = transformed_clicks.filter(regex=\"Item.*|Category.*\")\n",
    "print(filtered_clicks.shape)\n",
    "#print(filtered_clicks.head())"
   ]
  },
  {
   "cell_type": "code",
   "execution_count": 13,
   "metadata": {},
   "outputs": [
    {
     "name": "stdout",
     "output_type": "stream",
     "text": [
      "(10000, 354)\n"
     ]
    }
   ],
   "source": [
    "historical_buy_data = filtered_buys.groupby(filtered_buys.index).sum()\n",
    "print(historical_buy_data.shape)\n",
    "#print(historical_buy_data.head())"
   ]
  },
  {
   "cell_type": "code",
   "execution_count": 14,
   "metadata": {},
   "outputs": [
    {
     "name": "stdout",
     "output_type": "stream",
     "text": [
      "(10000, 354)\n"
     ]
    }
   ],
   "source": [
    "historical_buy_data = historical_buy_data.rename(columns=lambda column_name: 'buy history:' + column_name)\n",
    "print(historical_buy_data.shape)\n",
    "#print(historical_buy_data.head())"
   ]
  },
  {
   "cell_type": "code",
   "execution_count": 15,
   "metadata": {},
   "outputs": [
    {
     "name": "stdout",
     "output_type": "stream",
     "text": [
      "(10000, 56)\n"
     ]
    }
   ],
   "source": [
    "historical_click_data = filtered_clicks.groupby(filtered_clicks.index).sum()\n",
    "print(historical_click_data.shape)\n",
    "#print(historical_click_data.head())"
   ]
  },
  {
   "cell_type": "code",
   "execution_count": 16,
   "metadata": {},
   "outputs": [
    {
     "name": "stdout",
     "output_type": "stream",
     "text": [
      "(10000, 56)\n"
     ]
    }
   ],
   "source": [
    "historical_click_data = historical_click_data.rename(columns=lambda column_name: 'click history:' + column_name)\n",
    "print(historical_click_data.shape)\n",
    "#print(historical_click_data.head())"
   ]
  },
  {
   "cell_type": "code",
   "execution_count": 17,
   "metadata": {
    "scrolled": false
   },
   "outputs": [
    {
     "name": "stdout",
     "output_type": "stream",
     "text": [
      "(106956, 710)\n",
      "(106956, 766)\n"
     ]
    }
   ],
   "source": [
    "# Merge historical data of every user_id\n",
    "\n",
    "merged1 = pd.merge(transformed_buys, historical_buy_data, left_index=True, right_index=True)\n",
    "print(merged1.shape)\n",
    "#print(merged1.head())\n",
    "\n",
    "merged2 = pd.merge(merged1, historical_click_data, left_index=True, right_index=True)\n",
    "print(merged2.shape)\n",
    "#print(merged2.head())"
   ]
  },
  {
   "cell_type": "code",
   "execution_count": 18,
   "metadata": {},
   "outputs": [
    {
     "name": "stdout",
     "output_type": "stream",
     "text": [
      "(106956,)\n",
      "[ 2  2  1  2  1  1  2  2  2  1  1  1  1  1  1  1  1  1  1  1  2  1  1  1  1\n",
      "  1  1  1  1  1  1  1  1  1  1  1  2  2  1  2  2  2  1  2  1  1  1  1  1  1\n",
      "  1  1  2  5  4  2  4  2  2  5  1  2  2  1  2  1  2  1  1  1  1  1  1  1  1\n",
      "  2  1  1  2  1  1  1  1  1  2  1 10  6  1 10  1  6  1 10  1  6  1  0  0  0]\n",
      "[2 2 1 ..., 2 1 1] 106956\n",
      "2\n",
      "[1 1 1 1 1 1 1 1 1 1 1 1 1 1 1 1 1 1 1 1 1 1 1 1 1 1 1 1 1 1 1 1 1 1 1 1 1\n",
      " 1 1 1 1 1 1 1 1 1 1 1 1 1 1 1 1 1 1 1 1 1 1 1 1 1 1 1 1 1 1 1 1 1 1 1 1 1\n",
      " 1 1 1 1 1 1 1 1 1 1 1 1 1 1 1 1 1 1 1 1 1 1 1 0 0 0]\n",
      "[1 1 1 ..., 1 1 1] (106956,)\n"
     ]
    }
   ],
   "source": [
    "y = np.array(merged2['Quantity'].as_matrix())\n",
    "print(y.shape)\n",
    "print(y[0:100])\n",
    "\n",
    "print(y, y.shape[0])\n",
    "print(y[0])\n",
    "for i in range(y.shape[0]):\n",
    "    if y[i]!=0:\n",
    "        y[i]=1\n",
    "    else:\n",
    "        y[i]=0\n",
    "print(y[0:100])\n",
    "print(y, y.shape)"
   ]
  },
  {
   "cell_type": "code",
   "execution_count": 19,
   "metadata": {},
   "outputs": [
    {
     "name": "stdout",
     "output_type": "stream",
     "text": [
      "(85564, 766) (21392, 766) (85564,) (21392,)\n"
     ]
    }
   ],
   "source": [
    "#print(merged2.columns)\n",
    "X_tr, X_te, y_tr, y_te = train_test_split(merged2, y, test_size=0.2)\n",
    "\n",
    "print(X_tr.shape, X_te.shape, y_tr.shape, y_te.shape)\n"
   ]
  },
  {
   "cell_type": "code",
   "execution_count": 20,
   "metadata": {},
   "outputs": [
    {
     "name": "stdout",
     "output_type": "stream",
     "text": [
      "(10696, 766) (10696, 766) (10696,) (10696,)\n"
     ]
    }
   ],
   "source": [
    "X_te, X_te_cs, y_te, y_te_cs = train_test_split(X_te, y_te, test_size=0.5)\n",
    "print(X_te.shape, X_te_cs.shape, y_te.shape, y_te_cs.shape)"
   ]
  },
  {
   "cell_type": "code",
   "execution_count": 21,
   "metadata": {},
   "outputs": [
    {
     "name": "stdout",
     "output_type": "stream",
     "text": [
      "                Item ID\n",
      "Session ID             \n",
      "2614096     214829888.0\n",
      "6388687     214845456.0\n",
      "517818      214837488.0\n",
      "6498748     214691520.0\n",
      "2541201     214845104.0\n",
      "(10696, 1)\n",
      "Int64Index([ 2614096,  6388687,   517818,  6498748,  2541201,  8549471,\n",
      "             7517602,  1776852,  1600304,  4882213,\n",
      "            ...\n",
      "             4409038,  5258609, 11543372,  8832557,  5148522,  9672578,\n",
      "             2121008,  8218119,  1755582,  1509564],\n",
      "           dtype='int64', name='Session ID', length=10696)\n",
      "                Item ID\n",
      "Session ID             \n",
      "17929       214827008.0\n",
      "161673      214826928.0\n",
      "10914216    214854848.0\n",
      "9075227     214678368.0\n",
      "8356289     214716672.0\n"
     ]
    }
   ],
   "source": [
    "test_x = pd.DataFrame(X_te, columns = ['Item ID'])\n",
    "#test_x[\"y\"]= y_te\n",
    "print(test_x.head())\n",
    "print(test_x.shape)\n",
    "print(test_x.index)\n",
    "#print(len(set(test_x.index)))\n",
    "#print(set(test_x.index))\n",
    "\n",
    "#list(df['preTestScore'].groupby(df['regiment']))\n",
    "#print(test_x[\"Item ID\",\"Quantity\"].groupby(test_x.index))\n",
    "#xxx=list(test_x[\"Item ID\"].groupby(test_x.index))\n",
    "#print(xxx[1])\n",
    "\n",
    "test_x_cs = pd.DataFrame(X_te_cs, columns = ['Item ID'])\n",
    "print(test_x_cs.head())"
   ]
  },
  {
   "cell_type": "code",
   "execution_count": 22,
   "metadata": {},
   "outputs": [
    {
     "name": "stderr",
     "output_type": "stream",
     "text": [
      "/home/kishore/anaconda3/lib/python3.6/site-packages/ipykernel_launcher.py:1: SettingWithCopyWarning: \n",
      "A value is trying to be set on a copy of a slice from a DataFrame\n",
      "\n",
      "See the caveats in the documentation: http://pandas.pydata.org/pandas-docs/stable/indexing.html#indexing-view-versus-copy\n",
      "  \"\"\"Entry point for launching an IPython kernel.\n"
     ]
    }
   ],
   "source": [
    "X_tr.drop(['Item ID', '_Session ID', 'click history:Item ID', 'buy history:Item ID', 'Quantity'], 1, inplace=True)\n",
    "X_te.drop(['Item ID', '_Session ID', 'click history:Item ID', 'buy history:Item ID', 'Quantity'], 1, inplace=True)\n",
    "X_te_cs.drop(['Item ID', '_Session ID', 'click history:Item ID', 'buy history:Item ID', 'Quantity'], 1, inplace=True)"
   ]
  },
  {
   "cell_type": "code",
   "execution_count": 23,
   "metadata": {},
   "outputs": [
    {
     "name": "stdout",
     "output_type": "stream",
     "text": [
      "(85564, 761) (10696, 761) (85564,) (10696,)\n",
      "(10696, 761) (10696, 761) (10696,) (10696,)\n"
     ]
    }
   ],
   "source": [
    "print(X_tr.shape, X_te.shape, y_tr.shape, y_te.shape)\n",
    "print(X_te.shape, X_te_cs.shape, y_te.shape, y_te_cs.shape)"
   ]
  },
  {
   "cell_type": "code",
   "execution_count": 24,
   "metadata": {},
   "outputs": [
    {
     "name": "stdout",
     "output_type": "stream",
     "text": [
      "(85564, 761) (10696, 761) (10696, 761)\n"
     ]
    }
   ],
   "source": [
    "#X = np.array(merged2)\n",
    "#X = np.nan_to_num(X)\n",
    "\n",
    "ax_tr = np.array(X_tr)\n",
    "ax_te = np.array(X_te)\n",
    "ax_te_cs = np.array(X_te_cs)\n",
    "\n",
    "ax_tr = np.nan_to_num(ax_tr)\n",
    "ax_te = np.nan_to_num(ax_te)\n",
    "ax_te_cs = np.nan_to_num(ax_te_cs)\n",
    "\n",
    "print(np.shape(ax_tr),np.shape(ax_te),np.shape(ax_te))"
   ]
  },
  {
   "cell_type": "code",
   "execution_count": 25,
   "metadata": {
    "collapsed": true
   },
   "outputs": [],
   "source": [
    "# Create the MF model, you can play around with the hyper-parameters \n",
    "\n",
    "model = TFFMClassifier(\n",
    "        order=2, \n",
    "        rank=7, \n",
    "        optimizer=tf.train.AdamOptimizer(learning_rate=0.001), \n",
    "        n_epochs=10, \n",
    "        batch_size=1024,\n",
    "        init_std=0.001,\n",
    "        reg=0.01,\n",
    "        input_type='dense',\n",
    "        log_dir = '/home/kishore/upwork/logs/',\n",
    "        verbose=1\n",
    "        #seed=42\n",
    "    )\n",
    "\n",
    "model1 = TFFMRegressor(\n",
    "    order=2,\n",
    "    rank=7,\n",
    "    optimizer=tf.train.AdamOptimizer(learning_rate=0.1),\n",
    "    n_epochs=100,\n",
    "    batch_size=-1,\n",
    "    init_std=0.001,\n",
    "    input_type='dense',\n",
    "    log_dir = '/home/kishore/upwork/logs/',\n",
    "    verbose=1\n",
    ")"
   ]
  },
  {
   "cell_type": "code",
   "execution_count": 26,
   "metadata": {},
   "outputs": [
    {
     "name": "stdout",
     "output_type": "stream",
     "text": [
      "(10696, 761)\n"
     ]
    }
   ],
   "source": [
    "# Cold Start\n",
    "\n",
    "cold_start = pd.DataFrame(ax_te_cs, columns=X_tr.columns)\n",
    "print(cold_start.shape)\n",
    "#print(cold_start.head())"
   ]
  },
  {
   "cell_type": "code",
   "execution_count": 27,
   "metadata": {},
   "outputs": [
    {
     "name": "stdout",
     "output_type": "stream",
     "text": [
      "(10696, 761)\n"
     ]
    }
   ],
   "source": [
    "# What happens if we only have access to categories and no historical click/purchase data?\n",
    "# Let's delete historical click and purchasing data for the cold_start test set\n",
    "\n",
    "for column in cold_start.columns:\n",
    "    if ('buy' in column or 'click' in column) and ('Category' not in column):\n",
    "        cold_start[column] = 0\n",
    "        \n",
    "print(cold_start.shape)\n",
    "#print(cold_start.head(n=10))"
   ]
  },
  {
   "cell_type": "code",
   "execution_count": 28,
   "metadata": {},
   "outputs": [
    {
     "name": "stderr",
     "output_type": "stream",
     "text": [
      "\r",
      "  0%|          | 0/10 [00:00<?, ?epoch/s]"
     ]
    },
    {
     "name": "stdout",
     "output_type": "stream",
     "text": [
      "Initialize logs, use: \n",
      "tensorboard --logdir=/home/kishore/upwork/logs\n"
     ]
    },
    {
     "name": "stderr",
     "output_type": "stream",
     "text": [
      "100%|██████████| 10/10 [00:32<00:00,  3.27s/epoch]\n"
     ]
    }
   ],
   "source": [
    "# fit the model\n",
    "\n",
    "model.fit(ax_tr, y_tr, show_progress=True)"
   ]
  },
  {
   "cell_type": "code",
   "execution_count": 29,
   "metadata": {},
   "outputs": [
    {
     "name": "stdout",
     "output_type": "stream",
     "text": [
      "(10696,)\n",
      "accuracy: 1.0\n",
      "predictions: [0 0 1 0 0 1 0 1 1 0]\n",
      "actual value: [0 0 1 0 0 1 0 1 1 0]\n"
     ]
    }
   ],
   "source": [
    "# Compute the mean squared error for both test sets\n",
    "from sklearn.metrics import roc_auc_score, accuracy_score\n",
    "\n",
    "predictions = model.predict(ax_te)\n",
    "print(predictions.shape)\n",
    "#print('MSE: {}'.format(mean_squared_error(y_te, predictions)))\n",
    "print('accuracy: {}'.format(accuracy_score(y_te, predictions)))\n",
    "print(\"predictions:\",predictions[:10])\n",
    "print(\"actual value:\",y_te[:10])"
   ]
  },
  {
   "cell_type": "code",
   "execution_count": 30,
   "metadata": {},
   "outputs": [
    {
     "name": "stdout",
     "output_type": "stream",
     "text": [
      "Cold-start accuracy: 1.0\n",
      "cold start predictions: [1 1 1 1 1 0 1 0 0 1]\n",
      "actual value: [1 1 1 1 1 0 1 0 0 1]\n"
     ]
    }
   ],
   "source": [
    "# Compute the mean squared error for both test sets\n",
    "\n",
    "cold_start_predictions = model.predict(ax_te_cs)\n",
    "#print('Cold-start MSE: {}'.format(mean_squared_error(y_te_cs, cold_start_predictions)))\n",
    "print('Cold-start accuracy: {}'.format(accuracy_score(y_te_cs, cold_start_predictions)))\n",
    "print(\"cold start predictions:\",cold_start_predictions[:10])\n",
    "print(\"actual value:\",y_te_cs[:10])"
   ]
  },
  {
   "cell_type": "code",
   "execution_count": 31,
   "metadata": {
    "collapsed": true
   },
   "outputs": [],
   "source": [
    "model.destroy()"
   ]
  },
  {
   "cell_type": "code",
   "execution_count": 32,
   "metadata": {},
   "outputs": [
    {
     "name": "stdout",
     "output_type": "stream",
     "text": [
      "                Item ID  Predicted\n",
      "Session ID                        \n",
      "2614096     214829888.0          0\n",
      "6388687     214845456.0          0\n",
      "517818      214837488.0          1\n",
      "6498748     214691520.0          0\n",
      "2541201     214845104.0          0\n",
      "                Item ID  Predicted\n",
      "Session ID                        \n",
      "17929       214827008.0          1\n",
      "161673      214826928.0          1\n",
      "10914216    214854848.0          1\n",
      "9075227     214678368.0          1\n",
      "8356289     214716672.0          1\n"
     ]
    }
   ],
   "source": [
    "test_x[\"Predicted\"] = predictions\n",
    "print(test_x.head())\n",
    "\n",
    "test_x_cs[\"Predicted\"] = cold_start_predictions\n",
    "print(test_x_cs.head())"
   ]
  },
  {
   "cell_type": "code",
   "execution_count": 35,
   "metadata": {},
   "outputs": [
    {
     "name": "stdout",
     "output_type": "stream",
     "text": [
      "5505032\n",
      "6578\n",
      "0.0\n"
     ]
    }
   ],
   "source": [
    "#print(len(set(test_x.index)))\n",
    "sess = list(set(test_x.index))\n",
    "print(sess[0])\n",
    "print(len(sess))\n",
    "\n",
    "print(test_x.loc[2614096][\"Predicted\"])\n"
   ]
  },
  {
   "cell_type": "code",
   "execution_count": 40,
   "metadata": {},
   "outputs": [
    {
     "name": "stdout",
     "output_type": "stream",
     "text": [
      "writing the results into .dat file....\n",
      "completed..!!\n"
     ]
    }
   ],
   "source": [
    "fout = open(\"solution.dat\", \"w\")\n",
    "#print(sess[10:20])\n",
    "print(\"writing the results into .dat file....\")\n",
    "for i in sess:\n",
    "    #print(test_x.loc[i][\"Predicted\"])\n",
    "    if test_x.loc[i][\"Predicted\"].any()!= 0:\n",
    "        #print(i,\";\",','.join(s for s in str(test_x.loc[i][\"Item ID\"].tolist()).strip('[]').split(',')))\n",
    "        #print(','.join(s for s in str(test_x.loc[i][\"Item ID\"].tolist()).strip('[]').split(',')))\n",
    "        #print([int(i) for i in test_x.loc[i][\"Item ID\"].tolist()])\n",
    "        fout.write(str(i)+\";\"+','.join(s for s in str(test_x.loc[i][\"Item ID\"].tolist()).strip('[]').split(','))+'\\n')\n",
    "\n",
    "print(\"completed..!!\")\n",
    "fout.close()"
   ]
  },
  {
   "cell_type": "code",
   "execution_count": 39,
   "metadata": {},
   "outputs": [
    {
     "name": "stdout",
     "output_type": "stream",
     "text": [
      "10977282\n",
      "6567\n",
      "writing the cold start results into .dat file....\n",
      "completed..!!\n"
     ]
    }
   ],
   "source": [
    "sess_cs = list(set(test_x_cs.index))\n",
    "print(sess_cs[0])\n",
    "print(len(sess_cs))\n",
    "\n",
    "fout = open(\"solution_cs.dat\", \"w\")\n",
    "#print(sess[10:20])\n",
    "print(\"writing the cold start results into .dat file....\")\n",
    "for i in sess_cs:\n",
    "    #print(test_x.loc[i][\"Predicted\"])\n",
    "    if test_x_cs.loc[i][\"Predicted\"].any()!= 0:\n",
    "        #print(i,\";\",','.join(s for s in str(test_x.loc[i][\"Item ID\"].tolist()).strip('[]').split(',')))\n",
    "        #print(','.join(s for s in str(test_x.loc[i][\"Item ID\"].tolist()).strip('[]').split(',')))\n",
    "        #print([int(i) for i in test_x.loc[i][\"Item ID\"].tolist()])\n",
    "        fout.write(str(i)+\";\"+','.join(s for s in str(test_x_cs.loc[i][\"Item ID\"].tolist()).strip('[]').split(','))+'\\n')\n",
    "\n",
    "print(\"completed..!!\")\n",
    "fout.close()"
   ]
  }
 ],
 "metadata": {
  "kernelspec": {
   "display_name": "Python 3",
   "language": "python",
   "name": "python3"
  },
  "language_info": {
   "codemirror_mode": {
    "name": "ipython",
    "version": 3
   },
   "file_extension": ".py",
   "mimetype": "text/x-python",
   "name": "python",
   "nbconvert_exporter": "python",
   "pygments_lexer": "ipython3",
   "version": "3.6.1"
  }
 },
 "nbformat": 4,
 "nbformat_minor": 2
}
